{
  "nbformat": 4,
  "nbformat_minor": 0,
  "metadata": {
    "colab": {
      "provenance": [],
      "authorship_tag": "ABX9TyO8VL0gzgAi5OiwSK5r+mwv",
      "include_colab_link": true
    },
    "kernelspec": {
      "name": "python3",
      "display_name": "Python 3"
    },
    "language_info": {
      "name": "python"
    }
  },
  "cells": [
    {
      "cell_type": "markdown",
      "metadata": {
        "id": "view-in-github",
        "colab_type": "text"
      },
      "source": [
        "<a href=\"https://colab.research.google.com/github/Rona0827/Introduction-to-Computers/blob/main/0320.ipynb\" target=\"_parent\"><img src=\"https://colab.research.google.com/assets/colab-badge.svg\" alt=\"Open In Colab\"/></a>"
      ]
    },
    {
      "cell_type": "code",
      "execution_count": 4,
      "metadata": {
        "id": "ZvA8m7-3IJwJ",
        "colab": {
          "base_uri": "https://localhost:8080/"
        },
        "outputId": "06c9e3b6-cfed-44a9-801f-55ecad2211f0"
      },
      "outputs": [
        {
          "output_type": "stream",
          "name": "stdout",
          "text": [
            "請輸入國文成績(整數)：50\n",
            "請輸入英文成績(整數)：60\n",
            "請輸入數學成績(整數)：70\n",
            "您的成績總分為:180\n"
          ]
        }
      ],
      "source": [
        "chinese=int(input('請輸入國文成績(整數)：'))\n",
        "english=int(input('請輸入英文成績(整數)：'))\n",
        "math=int(input('請輸入數學成績(整數)：'))\n",
        "total=chinese+english+math\n",
        "print('您的成績總分為:%3d'% total)"
      ]
    },
    {
      "cell_type": "code",
      "source": [
        "a=3\n",
        "b=4\n",
        "c=3\n",
        "area=(a+b)*c/2\n",
        "print(area)"
      ],
      "metadata": {
        "colab": {
          "base_uri": "https://localhost:8080/"
        },
        "id": "pk7qpJE6KYzj",
        "outputId": "9915b5f9-44e2-4573-8899-c92dffaf7a94"
      },
      "execution_count": 2,
      "outputs": [
        {
          "output_type": "stream",
          "name": "stdout",
          "text": [
            "10.5\n"
          ]
        }
      ]
    },
    {
      "cell_type": "code",
      "source": [
        "height_cm=float(input('請輸入您的身高（cm):'))\n",
        "weight=float(input('請輸入您的體重（kg):'))\n",
        "height_m=height_cm/100\n",
        "bmi=weight/(height_m**2)\n",
        "print('BMI為：%3.2f'%bmi)"
      ],
      "metadata": {
        "colab": {
          "base_uri": "https://localhost:8080/"
        },
        "id": "M3Rw0hTOKVjV",
        "outputId": "e9ebfecd-1122-4952-9034-bd89ba298972"
      },
      "execution_count": 1,
      "outputs": [
        {
          "output_type": "stream",
          "name": "stdout",
          "text": [
            "請輸入您的身高（cm):180\n",
            "請輸入您的體重（kg):80\n",
            "BMI為：24.69\n"
          ]
        }
      ]
    }
  ]
}